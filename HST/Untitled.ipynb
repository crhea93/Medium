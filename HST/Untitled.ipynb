{
 "cells": [
  {
   "cell_type": "markdown",
   "metadata": {},
   "source": [
    "# Downloading images from the Hubble Legacy Archive\n",
    "Assuming we have downloaded the gz_candels_table_2_main_release.csv from https://data.galaxyzoo.org/, let's take a look at it\n"
   ]
  },
  {
   "cell_type": "code",
   "execution_count": 2,
   "metadata": {},
   "outputs": [],
   "source": [
    "import pandas as pd\n",
    "from astropy.io import fits\n",
    "from astropy.table import Table\n",
    "from astroquery.mast import Observations\n",
    "from astropy import units as u\n",
    "from astropy import coordinates as coords\n",
    "import os\n",
    "from astropy.nddata.utils import Cutout2D\n",
    "import shutil\n",
    "from astropy import wcs\n",
    "from astropy.coordinates import SkyCoord,FK5\n",
    "from astropy.wcs.utils import skycoord_to_pixel"
   ]
  },
  {
   "cell_type": "code",
   "execution_count": null,
   "metadata": {},
   "outputs": [],
   "source": []
  },
  {
   "cell_type": "code",
   "execution_count": 3,
   "metadata": {},
   "outputs": [],
   "source": [
    "GZ_catalog = fits.open('schawinski_GZ_2010_catalogue.fits')\n",
    "catalog = Table(GZ_catalog[1].data)"
   ]
  },
  {
   "cell_type": "code",
   "execution_count": 4,
   "metadata": {},
   "outputs": [
    {
     "name": "stdout",
     "output_type": "stream",
     "text": [
      "['587722982288785725' '587722982280069271' '587722981748048047' ...\n",
      " '588848899924361312' '588298664654930067' '588298664651718676']\n"
     ]
    }
   ],
   "source": [
    "ObjID = catalog['OBJID'][0]\n",
    "Morphology = catalog['GZ1_MORPHOLOGY'][0]\n",
    "BPT_class = catalog['BPT_CLASS'][0]\n",
    "RA = catalog['RA'][0]\n",
    "DEC = catalog['DEC'][0]\n",
    "print(ObjID)"
   ]
  },
  {
   "cell_type": "code",
   "execution_count": 5,
   "metadata": {},
   "outputs": [
    {
     "name": "stderr",
     "output_type": "stream",
     "text": [
      "WARNING: NoResultsWarning: Query returned no results. [astroquery.mast.discovery_portal]\n"
     ]
    },
    {
     "name": "stdout",
     "output_type": "stream",
     "text": [
      "RA:187.24380843 DEC:-0.71369079\n",
      "    2008146298 - F160W\n",
      "Downloading URL https://mast.stsci.edu/api/v0.1/Download/file?uri=mast:HST/product/ie4705010_drz.fits to HST/2008146298-F160W/mastDownload/HST/ie4705010/ie4705010_drz.fits ... [Done]\n",
      "    2008146304 - F160W\n",
      "Downloading URL https://mast.stsci.edu/api/v0.1/Download/file?uri=mast:HST/product/ie4705020_drz.fits to HST/2008146304-F160W/mastDownload/HST/ie4705020/ie4705020_drz.fits ... [Done]\n"
     ]
    },
    {
     "name": "stderr",
     "output_type": "stream",
     "text": [
      "WARNING: NoResultsWarning: Query returned no results. [astroquery.mast.discovery_portal]\n"
     ]
    },
    {
     "name": "stdout",
     "output_type": "stream",
     "text": [
      "RA:224.51223292 DEC:-0.29179222\n",
      "    2007927826 - F160W\n",
      "INFO: Found cached file HST/2007927826-F160W/mastDownload/HST/idpw01010/idpw01010_drz.fits with expected size 12732480. [astroquery.query]\n"
     ]
    },
    {
     "name": "stderr",
     "output_type": "stream",
     "text": [
      "WARNING: NoResultsWarning: Query returned no results. [astroquery.mast.discovery_portal]\n"
     ]
    }
   ],
   "source": [
    "obsids = {}  # {obs_id, [ra,dec]}\n",
    "for gal_ct in range(20):\n",
    "    # Obtain information for given galaxy\n",
    "    id_ = ObjID[gal_ct]\n",
    "    morph_ = Morphology[gal_ct]\n",
    "    bpt_ = BPT_class[gal_ct]\n",
    "    ra_ = RA[gal_ct]\n",
    "    dec_ = DEC[gal_ct]\n",
    "    # Convert coordinates to use astropy skycoordinates\n",
    "    pos = coords.SkyCoord(ra=ra_*u.degree, dec= dec_*u.degree, frame='fk5')\n",
    "    # Use the MAST catalog to query for Hubble observation\n",
    "    obs = Observations.query_criteria(project='HST',\n",
    "                                       filters='F160W',\n",
    "                                       instrument_name='WFC3/IR',\n",
    "                                       dataproduct_type=[\"image\"],\n",
    "                                       coordinates=pos)\n",
    "    \n",
    "    if obs:\n",
    "        print(\"RA:%s DEC:%s\"%(ra_,dec_))\n",
    "        for ob in obs:\n",
    "            obsids[ob['obs_id']] = [ra_, dec_]\n",
    "            print('    '+ob['obsid']+' - '+ob['filters'])\n",
    "            data_products = Observations.get_product_list(ob['obsid'])\n",
    "            manifest = Observations.download_products(data_products, download_dir='HST/'+ob['obsid']+'-'+ob['filters'], productType='SCIENCE', extension='fits', productSubGroupDescription='DRZ')"
   ]
  },
  {
   "cell_type": "code",
   "execution_count": 6,
   "metadata": {},
   "outputs": [
    {
     "name": "stdout",
     "output_type": "stream",
     "text": [
      "HST/2008146298-F160W/mastDownload/HST/ie4705010/ie4705010_drz.fits\n",
      "HST/2007927826-F160W/mastDownload/HST/idpw01010/idpw01010_drz.fits\n",
      "HST/2008146304-F160W/mastDownload/HST/ie4705020/ie4705020_drz.fits\n"
     ]
    }
   ],
   "source": [
    "for root, dirs, files in os.walk(\"HST\"):\n",
    "    path = root.split(os.sep)\n",
    "    #print((len(path) - 1) * '---', os.path.basename(root))\n",
    "    for file in files:\n",
    "        if file.endswith('.fits'):\n",
    "            print(os.path.join(root, file))\n",
    "            shutil.copy(os.path.join(root, file), os.path.join('HST-Final', file))"
   ]
  },
  {
   "cell_type": "code",
   "execution_count": 10,
   "metadata": {},
   "outputs": [
    {
     "name": "stdout",
     "output_type": "stream",
     "text": [
      "WCS Keywords\n",
      "\n",
      "Number of WCS axes: 2\n",
      "CTYPE : ''  ''  \n",
      "CRVAL : 0.0  0.0  \n",
      "CRPIX : 0.0  0.0  \n",
      "PC1_1 PC1_2  : 1.0  0.0  \n",
      "PC2_1 PC2_2  : 0.0  1.0  \n",
      "CDELT : 1.0  1.0  \n",
      "NAXIS : 0  0\n",
      "187.24380843 -0.71369079\n"
     ]
    },
    {
     "name": "stderr",
     "output_type": "stream",
     "text": [
      "WARNING: FITSFixedWarning: The WCS transformation has more axes (2) than the image it is associated with (0) [astropy.wcs.wcs]\n"
     ]
    },
    {
     "ename": "ValueError",
     "evalue": "WCS should contain celestial component",
     "output_type": "error",
     "traceback": [
      "\u001b[0;31m---------------------------------------------------------------------------\u001b[0m",
      "\u001b[0;31mValueError\u001b[0m                                Traceback (most recent call last)",
      "\u001b[0;32m<ipython-input-10-e72b64b16eb4>\u001b[0m in \u001b[0;36m<module>\u001b[0;34m\u001b[0m\n\u001b[1;32m     12\u001b[0m     \u001b[0;31m#print(coo.to_pixel(wcs.WCS(header)))\u001b[0m\u001b[0;34m\u001b[0m\u001b[0;34m\u001b[0m\u001b[0;34m\u001b[0m\u001b[0m\n\u001b[1;32m     13\u001b[0m     \u001b[0;31m#print(skycoord_to_pixel(coo, w))\u001b[0m\u001b[0;34m\u001b[0m\u001b[0;34m\u001b[0m\u001b[0;34m\u001b[0m\u001b[0m\n\u001b[0;32m---> 14\u001b[0;31m     \u001b[0md\u001b[0m\u001b[0;34m=\u001b[0m\u001b[0mCutout2D\u001b[0m\u001b[0;34m(\u001b[0m\u001b[0mdata\u001b[0m\u001b[0;34m,\u001b[0m\u001b[0mcoo\u001b[0m\u001b[0;34m,\u001b[0m\u001b[0mu\u001b[0m\u001b[0;34m.\u001b[0m\u001b[0mQuantity\u001b[0m\u001b[0;34m(\u001b[0m\u001b[0;34m(\u001b[0m\u001b[0marcsec\u001b[0m\u001b[0;34m,\u001b[0m\u001b[0marcsec\u001b[0m\u001b[0;34m)\u001b[0m\u001b[0;34m,\u001b[0m\u001b[0mu\u001b[0m\u001b[0;34m.\u001b[0m\u001b[0marcsec\u001b[0m\u001b[0;34m)\u001b[0m\u001b[0;34m,\u001b[0m\u001b[0mwcs\u001b[0m\u001b[0;34m=\u001b[0m\u001b[0mw\u001b[0m\u001b[0;34m,\u001b[0m\u001b[0mmode\u001b[0m\u001b[0;34m=\u001b[0m\u001b[0;34m\"trim\"\u001b[0m\u001b[0;34m)\u001b[0m\u001b[0;34m.\u001b[0m\u001b[0mdata\u001b[0m\u001b[0;34m\u001b[0m\u001b[0;34m\u001b[0m\u001b[0m\n\u001b[0m\u001b[1;32m     15\u001b[0m     \u001b[0mprint\u001b[0m\u001b[0;34m(\u001b[0m\u001b[0md\u001b[0m\u001b[0;34m)\u001b[0m\u001b[0;34m\u001b[0m\u001b[0;34m\u001b[0m\u001b[0m\n",
      "\u001b[0;32m~/anaconda3/envs/astro/lib/python3.8/site-packages/astropy/nddata/utils.py\u001b[0m in \u001b[0;36m__init__\u001b[0;34m(self, data, position, size, wcs, mode, fill_value, copy)\u001b[0m\n\u001b[1;32m    550\u001b[0m                 raise ValueError('wcs must be input if position is a '\n\u001b[1;32m    551\u001b[0m                                  'SkyCoord')\n\u001b[0;32m--> 552\u001b[0;31m             \u001b[0mposition\u001b[0m \u001b[0;34m=\u001b[0m \u001b[0mskycoord_to_pixel\u001b[0m\u001b[0;34m(\u001b[0m\u001b[0mposition\u001b[0m\u001b[0;34m,\u001b[0m \u001b[0mwcs\u001b[0m\u001b[0;34m,\u001b[0m \u001b[0mmode\u001b[0m\u001b[0;34m=\u001b[0m\u001b[0;34m'all'\u001b[0m\u001b[0;34m)\u001b[0m  \u001b[0;31m# (x, y)\u001b[0m\u001b[0;34m\u001b[0m\u001b[0;34m\u001b[0m\u001b[0m\n\u001b[0m\u001b[1;32m    553\u001b[0m \u001b[0;34m\u001b[0m\u001b[0m\n\u001b[1;32m    554\u001b[0m         \u001b[0;32mif\u001b[0m \u001b[0mnp\u001b[0m\u001b[0;34m.\u001b[0m\u001b[0misscalar\u001b[0m\u001b[0;34m(\u001b[0m\u001b[0msize\u001b[0m\u001b[0;34m)\u001b[0m\u001b[0;34m:\u001b[0m\u001b[0;34m\u001b[0m\u001b[0;34m\u001b[0m\u001b[0m\n",
      "\u001b[0;32m~/anaconda3/envs/astro/lib/python3.8/site-packages/astropy/wcs/utils.py\u001b[0m in \u001b[0;36mskycoord_to_pixel\u001b[0;34m(coords, wcs, origin, mode)\u001b[0m\n\u001b[1;32m    532\u001b[0m \u001b[0;34m\u001b[0m\u001b[0m\n\u001b[1;32m    533\u001b[0m     \u001b[0;32mif\u001b[0m \u001b[0mwcs\u001b[0m\u001b[0;34m.\u001b[0m\u001b[0mnaxis\u001b[0m \u001b[0;34m!=\u001b[0m \u001b[0;36m2\u001b[0m\u001b[0;34m:\u001b[0m\u001b[0;34m\u001b[0m\u001b[0;34m\u001b[0m\u001b[0m\n\u001b[0;32m--> 534\u001b[0;31m         \u001b[0;32mraise\u001b[0m \u001b[0mValueError\u001b[0m\u001b[0;34m(\u001b[0m\u001b[0;34m\"WCS should contain celestial component\"\u001b[0m\u001b[0;34m)\u001b[0m\u001b[0;34m\u001b[0m\u001b[0;34m\u001b[0m\u001b[0m\n\u001b[0m\u001b[1;32m    535\u001b[0m \u001b[0;34m\u001b[0m\u001b[0m\n\u001b[1;32m    536\u001b[0m     \u001b[0;31m# Check which frame the WCS uses\u001b[0m\u001b[0;34m\u001b[0m\u001b[0;34m\u001b[0m\u001b[0;34m\u001b[0m\u001b[0m\n",
      "\u001b[0;31mValueError\u001b[0m: WCS should contain celestial component"
     ]
    }
   ],
   "source": [
    "pix=31  # 31x31\n",
    "arcsec=0.06*pix\n",
    "for file in os.listdir('HST-Final'):\n",
    "    fits_file = fits.open('HST-Final/'+file)\n",
    "    data = fits_file[0].data\n",
    "    header = fits_file[0].header\n",
    "    w = wcs.WCS('HST-Final/'+file)\n",
    "    print(w)\n",
    "    ra_,dec_ = obsids[file.split('_')[0]]\n",
    "    print(ra_,dec_)\n",
    "    coo=SkyCoord(ra=ra_*u.degree,dec=dec_*u.degree,unit='deg',frame=FK5)\n",
    "    #print(coo.to_pixel(wcs.WCS(header)))\n",
    "    #print(skycoord_to_pixel(coo, w))\n",
    "    d=Cutout2D(data,coo,u.Quantity((arcsec,arcsec),u.arcsec),wcs=w,mode=\"trim\").data\n",
    "    print(d)"
   ]
  },
  {
   "cell_type": "code",
   "execution_count": null,
   "metadata": {},
   "outputs": [],
   "source": []
  }
 ],
 "metadata": {
  "kernelspec": {
   "display_name": "Python 3",
   "language": "python",
   "name": "python3"
  },
  "language_info": {
   "codemirror_mode": {
    "name": "ipython",
    "version": 3
   },
   "file_extension": ".py",
   "mimetype": "text/x-python",
   "name": "python",
   "nbconvert_exporter": "python",
   "pygments_lexer": "ipython3",
   "version": "3.8.5"
  }
 },
 "nbformat": 4,
 "nbformat_minor": 4
}
